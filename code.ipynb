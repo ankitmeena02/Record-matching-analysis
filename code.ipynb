{
 "cells": [
  {
   "cell_type": "markdown",
   "id": "1fd0ab20",
   "metadata": {},
   "source": [
    "# NEENOPAL TASK 1"
   ]
  },
  {
   "cell_type": "code",
   "execution_count": 4,
   "id": "2d46416a",
   "metadata": {},
   "outputs": [],
   "source": [
    "import numpy as np\n",
    "import pandas as pd"
   ]
  },
  {
   "cell_type": "code",
   "execution_count": 18,
   "id": "e5e1551c",
   "metadata": {},
   "outputs": [],
   "source": [
    "data1 = pd.read_csv('data1.csv')\n",
    "data2 = pd.read_csv('data2.csv')"
   ]
  },
  {
   "cell_type": "code",
   "execution_count": 14,
   "id": "720d8ebb",
   "metadata": {},
   "outputs": [
    {
     "data": {
      "text/html": [
       "<div>\n",
       "<style scoped>\n",
       "    .dataframe tbody tr th:only-of-type {\n",
       "        vertical-align: middle;\n",
       "    }\n",
       "\n",
       "    .dataframe tbody tr th {\n",
       "        vertical-align: top;\n",
       "    }\n",
       "\n",
       "    .dataframe thead th {\n",
       "        text-align: right;\n",
       "    }\n",
       "</style>\n",
       "<table border=\"1\" class=\"dataframe\">\n",
       "  <thead>\n",
       "    <tr style=\"text-align: right;\">\n",
       "      <th></th>\n",
       "      <th>Order ID</th>\n",
       "      <th>Product ID</th>\n",
       "      <th>Qty</th>\n",
       "      <th>OrderProductCombo</th>\n",
       "    </tr>\n",
       "  </thead>\n",
       "  <tbody>\n",
       "    <tr>\n",
       "      <th>0</th>\n",
       "      <td>CA-2014-100006</td>\n",
       "      <td>TEC-PH-10002075</td>\n",
       "      <td>3</td>\n",
       "      <td>CA-2014-100006-TEC-PH-10002075</td>\n",
       "    </tr>\n",
       "    <tr>\n",
       "      <th>1</th>\n",
       "      <td>CA-2014-100090</td>\n",
       "      <td>FUR-TA-10003715</td>\n",
       "      <td>3</td>\n",
       "      <td>CA-2014-100090-FUR-TA-10003715</td>\n",
       "    </tr>\n",
       "    <tr>\n",
       "      <th>2</th>\n",
       "      <td>CA-2014-100090</td>\n",
       "      <td>OFF-BI-10001597</td>\n",
       "      <td>6</td>\n",
       "      <td>CA-2014-100090-OFF-BI-10001597</td>\n",
       "    </tr>\n",
       "    <tr>\n",
       "      <th>3</th>\n",
       "      <td>CA-2014-100293</td>\n",
       "      <td>OFF-PA-10000176</td>\n",
       "      <td>6</td>\n",
       "      <td>CA-2014-100293-OFF-PA-10000176</td>\n",
       "    </tr>\n",
       "    <tr>\n",
       "      <th>4</th>\n",
       "      <td>CA-2014-100328</td>\n",
       "      <td>OFF-BI-10000343</td>\n",
       "      <td>1</td>\n",
       "      <td>CA-2014-100328-OFF-BI-10000343</td>\n",
       "    </tr>\n",
       "    <tr>\n",
       "      <th>...</th>\n",
       "      <td>...</td>\n",
       "      <td>...</td>\n",
       "      <td>...</td>\n",
       "      <td>...</td>\n",
       "    </tr>\n",
       "    <tr>\n",
       "      <th>9473</th>\n",
       "      <td>US-2017-169551</td>\n",
       "      <td>OFF-PA-10004100</td>\n",
       "      <td>3</td>\n",
       "      <td>US-2017-169551-OFF-PA-10004100</td>\n",
       "    </tr>\n",
       "    <tr>\n",
       "      <th>9474</th>\n",
       "      <td>US-2017-169551</td>\n",
       "      <td>OFF-ST-10004835</td>\n",
       "      <td>3</td>\n",
       "      <td>US-2017-169551-OFF-ST-10004835</td>\n",
       "    </tr>\n",
       "    <tr>\n",
       "      <th>9475</th>\n",
       "      <td>US-2017-169551</td>\n",
       "      <td>TEC-AC-10002018</td>\n",
       "      <td>3</td>\n",
       "      <td>US-2017-169551-TEC-AC-10002018</td>\n",
       "    </tr>\n",
       "    <tr>\n",
       "      <th>9476</th>\n",
       "      <td>US-2017-169551</td>\n",
       "      <td>TEC-AC-10003033</td>\n",
       "      <td>2</td>\n",
       "      <td>US-2017-169551-TEC-AC-10003033</td>\n",
       "    </tr>\n",
       "    <tr>\n",
       "      <th>9477</th>\n",
       "      <td>US-2017-169551</td>\n",
       "      <td>TEC-PH-10001363</td>\n",
       "      <td>2</td>\n",
       "      <td>US-2017-169551-TEC-PH-10001363</td>\n",
       "    </tr>\n",
       "  </tbody>\n",
       "</table>\n",
       "<p>9478 rows × 4 columns</p>\n",
       "</div>"
      ],
      "text/plain": [
       "            Order ID       Product ID  Qty               OrderProductCombo\n",
       "0     CA-2014-100006  TEC-PH-10002075    3  CA-2014-100006-TEC-PH-10002075\n",
       "1     CA-2014-100090  FUR-TA-10003715    3  CA-2014-100090-FUR-TA-10003715\n",
       "2     CA-2014-100090  OFF-BI-10001597    6  CA-2014-100090-OFF-BI-10001597\n",
       "3     CA-2014-100293  OFF-PA-10000176    6  CA-2014-100293-OFF-PA-10000176\n",
       "4     CA-2014-100328  OFF-BI-10000343    1  CA-2014-100328-OFF-BI-10000343\n",
       "...              ...              ...  ...                             ...\n",
       "9473  US-2017-169551  OFF-PA-10004100    3  US-2017-169551-OFF-PA-10004100\n",
       "9474  US-2017-169551  OFF-ST-10004835    3  US-2017-169551-OFF-ST-10004835\n",
       "9475  US-2017-169551  TEC-AC-10002018    3  US-2017-169551-TEC-AC-10002018\n",
       "9476  US-2017-169551  TEC-AC-10003033    2  US-2017-169551-TEC-AC-10003033\n",
       "9477  US-2017-169551  TEC-PH-10001363    2  US-2017-169551-TEC-PH-10001363\n",
       "\n",
       "[9478 rows x 4 columns]"
      ]
     },
     "execution_count": 14,
     "metadata": {},
     "output_type": "execute_result"
    }
   ],
   "source": [
    "data1"
   ]
  },
  {
   "cell_type": "code",
   "execution_count": 8,
   "id": "b2636f3f",
   "metadata": {},
   "outputs": [
    {
     "data": {
      "text/html": [
       "<div>\n",
       "<style scoped>\n",
       "    .dataframe tbody tr th:only-of-type {\n",
       "        vertical-align: middle;\n",
       "    }\n",
       "\n",
       "    .dataframe tbody tr th {\n",
       "        vertical-align: top;\n",
       "    }\n",
       "\n",
       "    .dataframe thead th {\n",
       "        text-align: right;\n",
       "    }\n",
       "</style>\n",
       "<table border=\"1\" class=\"dataframe\">\n",
       "  <thead>\n",
       "    <tr style=\"text-align: right;\">\n",
       "      <th></th>\n",
       "      <th>Order ID</th>\n",
       "      <th>Product ID</th>\n",
       "      <th>Qty</th>\n",
       "    </tr>\n",
       "  </thead>\n",
       "  <tbody>\n",
       "    <tr>\n",
       "      <th>0</th>\n",
       "      <td>CA-2014-100090</td>\n",
       "      <td>FUR-TA-10003715</td>\n",
       "      <td>3</td>\n",
       "    </tr>\n",
       "    <tr>\n",
       "      <th>1</th>\n",
       "      <td>CA-2014-100090</td>\n",
       "      <td>OFF-BI-10001597</td>\n",
       "      <td>6</td>\n",
       "    </tr>\n",
       "    <tr>\n",
       "      <th>2</th>\n",
       "      <td>CA-2014-100293</td>\n",
       "      <td>OFF-PA-10000176</td>\n",
       "      <td>6</td>\n",
       "    </tr>\n",
       "    <tr>\n",
       "      <th>3</th>\n",
       "      <td>CA-2014-100328</td>\n",
       "      <td>OFF-BI-10000343</td>\n",
       "      <td>1</td>\n",
       "    </tr>\n",
       "    <tr>\n",
       "      <th>4</th>\n",
       "      <td>CA-2014-100363</td>\n",
       "      <td>OFF-FA-10000611</td>\n",
       "      <td>2</td>\n",
       "    </tr>\n",
       "    <tr>\n",
       "      <th>...</th>\n",
       "      <td>...</td>\n",
       "      <td>...</td>\n",
       "      <td>...</td>\n",
       "    </tr>\n",
       "    <tr>\n",
       "      <th>9474</th>\n",
       "      <td>US-2017-169551</td>\n",
       "      <td>OFF-PA-10004100</td>\n",
       "      <td>3</td>\n",
       "    </tr>\n",
       "    <tr>\n",
       "      <th>9475</th>\n",
       "      <td>US-2017-169551</td>\n",
       "      <td>OFF-ST-10004835</td>\n",
       "      <td>3</td>\n",
       "    </tr>\n",
       "    <tr>\n",
       "      <th>9476</th>\n",
       "      <td>US-2017-169551</td>\n",
       "      <td>TEC-AC-10002018</td>\n",
       "      <td>3</td>\n",
       "    </tr>\n",
       "    <tr>\n",
       "      <th>9477</th>\n",
       "      <td>US-2017-169551</td>\n",
       "      <td>TEC-AC-10003033</td>\n",
       "      <td>2</td>\n",
       "    </tr>\n",
       "    <tr>\n",
       "      <th>9478</th>\n",
       "      <td>US-2017-169551</td>\n",
       "      <td>TEC-PH-10001363</td>\n",
       "      <td>2</td>\n",
       "    </tr>\n",
       "  </tbody>\n",
       "</table>\n",
       "<p>9479 rows × 3 columns</p>\n",
       "</div>"
      ],
      "text/plain": [
       "            Order ID       Product ID  Qty\n",
       "0     CA-2014-100090  FUR-TA-10003715    3\n",
       "1     CA-2014-100090  OFF-BI-10001597    6\n",
       "2     CA-2014-100293  OFF-PA-10000176    6\n",
       "3     CA-2014-100328  OFF-BI-10000343    1\n",
       "4     CA-2014-100363  OFF-FA-10000611    2\n",
       "...              ...              ...  ...\n",
       "9474  US-2017-169551  OFF-PA-10004100    3\n",
       "9475  US-2017-169551  OFF-ST-10004835    3\n",
       "9476  US-2017-169551  TEC-AC-10002018    3\n",
       "9477  US-2017-169551  TEC-AC-10003033    2\n",
       "9478  US-2017-169551  TEC-PH-10001363    2\n",
       "\n",
       "[9479 rows x 3 columns]"
      ]
     },
     "execution_count": 8,
     "metadata": {},
     "output_type": "execute_result"
    }
   ],
   "source": [
    "data2"
   ]
  },
  {
   "cell_type": "markdown",
   "id": "c3ee0c54",
   "metadata": {},
   "source": [
    "# 1.How to identify the Records (Order ID + Product ID combination) present in data1 but missing in data2 (Specify the number of records missing in your answer"
   ]
  },
  {
   "cell_type": "code",
   "execution_count": 32,
   "id": "ad37eff1",
   "metadata": {},
   "outputs": [
    {
     "data": {
      "text/plain": [
       "507"
      ]
     },
     "execution_count": 32,
     "metadata": {},
     "output_type": "execute_result"
    }
   ],
   "source": [
    "data1['Oorder+product'] = data1['Order ID'] + '-' + data1['Product ID']\n",
    "data2['Oorder+product'] = data2['Order ID'] + '-' + data2['Product ID']\n",
    "\n",
    "missing_records = data1[~data1['Oorder+product'].isin(data2['Oorder+product'])]\n",
    "number_of_missing_records = len(missing_records)\n",
    "number_of_missing_records"
   ]
  },
  {
   "cell_type": "markdown",
   "id": "fe3b1ec1",
   "metadata": {},
   "source": [
    "# 2. How to identify the Records (Order ID + Product ID combination) missing in data1 but present in data2 (Specify the number of records missing in your answer)"
   ]
  },
  {
   "cell_type": "code",
   "execution_count": 33,
   "id": "d56fd2a4",
   "metadata": {},
   "outputs": [
    {
     "data": {
      "text/plain": [
       "508"
      ]
     },
     "execution_count": 33,
     "metadata": {},
     "output_type": "execute_result"
    }
   ],
   "source": [
    "data1['Oorder+product'] = data1['Order ID'] + '-' + data1['Product ID']\n",
    "data2['Oorder+product'] = data2['Order ID'] + '-' + data2['Product ID']\n",
    "\n",
    "missing_records = data2[~data2['Oorder+product'].isin(data1['Oorder+product'])]\n",
    "number_of_missing_records = len(missing_records)\n",
    "number_of_missing_records"
   ]
  },
  {
   "cell_type": "markdown",
   "id": "326fe9a4",
   "metadata": {},
   "source": [
    "# 3. Find the Sum of the total Qty of Records missing in data1 but present in data2"
   ]
  },
  {
   "cell_type": "code",
   "execution_count": 36,
   "id": "a354eb00",
   "metadata": {},
   "outputs": [
    {
     "data": {
      "text/plain": [
       "1956"
      ]
     },
     "execution_count": 36,
     "metadata": {},
     "output_type": "execute_result"
    }
   ],
   "source": [
    "\n",
    "\n",
    "missing_records_in_data2 = data2[~data2['OrderProductCombo'].isin(data1['OrderProductCombo'])]\n",
    "\n",
    "\n",
    "sum_of_qty_missing_records = missing_records_in_data2['Qty'].sum()\n",
    "sum_of_qty_missing_records\n"
   ]
  },
  {
   "cell_type": "markdown",
   "id": "dc50570b",
   "metadata": {},
   "source": [
    "# 4.Find the total number of unique records (Order ID + Product ID combination) present in the combined dataset of data1 and data2"
   ]
  },
  {
   "cell_type": "code",
   "execution_count": 37,
   "id": "e93dc026",
   "metadata": {},
   "outputs": [
    {
     "data": {
      "text/plain": [
       "9986"
      ]
     },
     "execution_count": 37,
     "metadata": {},
     "output_type": "execute_result"
    }
   ],
   "source": [
    "combined_data = pd.concat([data1, data2])\n",
    "combined_data['OrderProductCombo'] = combined_data['Order ID'] + '-' + combined_data['Product ID']\n",
    "total_unique_records = combined_data['OrderProductCombo'].nunique()\n",
    "total_unique_records"
   ]
  },
  {
   "cell_type": "code",
   "execution_count": null,
   "id": "86c02971",
   "metadata": {},
   "outputs": [],
   "source": []
  }
 ],
 "metadata": {
  "kernelspec": {
   "display_name": "Python 3 (ipykernel)",
   "language": "python",
   "name": "python3"
  },
  "language_info": {
   "codemirror_mode": {
    "name": "ipython",
    "version": 3
   },
   "file_extension": ".py",
   "mimetype": "text/x-python",
   "name": "python",
   "nbconvert_exporter": "python",
   "pygments_lexer": "ipython3",
   "version": "3.10.9"
  }
 },
 "nbformat": 4,
 "nbformat_minor": 5
}
